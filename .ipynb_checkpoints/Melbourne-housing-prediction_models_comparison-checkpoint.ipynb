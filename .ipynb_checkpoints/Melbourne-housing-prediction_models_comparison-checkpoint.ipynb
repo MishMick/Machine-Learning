{
 "cells": [
  {
   "cell_type": "code",
   "execution_count": 16,
   "metadata": {
    "collapsed": true
   },
   "outputs": [],
   "source": [
    "import pandas as pd\n",
    "from sklearn.tree import DecisionTreeRegressor"
   ]
  },
  {
   "cell_type": "code",
   "execution_count": 2,
   "metadata": {
    "collapsed": true
   },
   "outputs": [],
   "source": [
    "melbourne_file_path = '../DataSets/melb_data.csv'"
   ]
  },
  {
   "cell_type": "code",
   "execution_count": 3,
   "metadata": {
    "collapsed": true
   },
   "outputs": [],
   "source": [
    "melbourne_data = pd.read_csv(melbourne_file_path) "
   ]
  },
  {
   "cell_type": "code",
   "execution_count": 11,
   "metadata": {
    "collapsed": true
   },
   "outputs": [],
   "source": [
    "#prediction target\n",
    "y = melbourne_data.Price"
   ]
  },
  {
   "cell_type": "code",
   "execution_count": 13,
   "metadata": {},
   "outputs": [],
   "source": [
    "#factors for prediction\n",
    "melbourne_predictors = ['Rooms', 'Bathroom', 'Landsize', 'BuildingArea', \n",
    "                        'YearBuilt', 'Lattitude', 'Longtitude']"
   ]
  },
  {
   "cell_type": "code",
   "execution_count": 24,
   "metadata": {},
   "outputs": [
    {
     "ename": "AttributeError",
     "evalue": "'list' object has no attribute 'dropna'",
     "output_type": "error",
     "traceback": [
      "\u001b[0;31m---------------------------------------------------------------------------\u001b[0m",
      "\u001b[0;31mAttributeError\u001b[0m                            Traceback (most recent call last)",
      "\u001b[0;32m<ipython-input-24-ffd6871d7e5a>\u001b[0m in \u001b[0;36m<module>\u001b[0;34m()\u001b[0m\n\u001b[0;32m----> 1\u001b[0;31m \u001b[0mmelbourne_predictors\u001b[0m \u001b[0;34m=\u001b[0m \u001b[0mmelbourne_predictors\u001b[0m\u001b[0;34m.\u001b[0m\u001b[0mdropna\u001b[0m\u001b[0;34m(\u001b[0m\u001b[0maxis\u001b[0m\u001b[0;34m=\u001b[0m\u001b[0;36m0\u001b[0m\u001b[0;34m,\u001b[0m \u001b[0mhow\u001b[0m\u001b[0;34m=\u001b[0m\u001b[0;34m'any'\u001b[0m\u001b[0;34m)\u001b[0m\u001b[0;34m\u001b[0m\u001b[0m\n\u001b[0m\u001b[1;32m      2\u001b[0m \u001b[0;31m#X = melbourne_data[melbourne_predictors]\u001b[0m\u001b[0;34m\u001b[0m\u001b[0;34m\u001b[0m\u001b[0m\n\u001b[1;32m      3\u001b[0m \u001b[0mprint\u001b[0m\u001b[0;34m(\u001b[0m\u001b[0mmelbourne_predictors\u001b[0m\u001b[0;34m)\u001b[0m\u001b[0;34m\u001b[0m\u001b[0m\n",
      "\u001b[0;31mAttributeError\u001b[0m: 'list' object has no attribute 'dropna'"
     ]
    }
   ],
   "source": [
    "melbourne_predictors = melbourne_predictors.dropna(axis=0, how='any')\n",
    "X = melbourne_data[melbourne_predictors]\n",
    "print(melbourne_predictors)"
   ]
  },
  {
   "cell_type": "code",
   "execution_count": 17,
   "metadata": {},
   "outputs": [],
   "source": [
    "# Define model\n",
    "melbourne_model = DecisionTreeRegressor()"
   ]
  },
  {
   "cell_type": "code",
   "execution_count": 23,
   "metadata": {},
   "outputs": [
    {
     "ename": "ValueError",
     "evalue": "Input contains NaN, infinity or a value too large for dtype('float32').",
     "output_type": "error",
     "traceback": [
      "\u001b[0;31m---------------------------------------------------------------------------\u001b[0m",
      "\u001b[0;31mValueError\u001b[0m                                Traceback (most recent call last)",
      "\u001b[0;32m<ipython-input-23-ad7c44cb225f>\u001b[0m in \u001b[0;36m<module>\u001b[0;34m()\u001b[0m\n\u001b[1;32m      1\u001b[0m \u001b[0;31m# Fit model\u001b[0m\u001b[0;34m\u001b[0m\u001b[0;34m\u001b[0m\u001b[0m\n\u001b[0;32m----> 2\u001b[0;31m \u001b[0mmelbourne_model\u001b[0m\u001b[0;34m.\u001b[0m\u001b[0mfit\u001b[0m\u001b[0;34m(\u001b[0m\u001b[0mX\u001b[0m\u001b[0;34m,\u001b[0m \u001b[0my\u001b[0m\u001b[0;34m)\u001b[0m\u001b[0;34m\u001b[0m\u001b[0m\n\u001b[0m",
      "\u001b[0;32m/Users/apple/anaconda/lib/python3.6/site-packages/sklearn/tree/tree.py\u001b[0m in \u001b[0;36mfit\u001b[0;34m(self, X, y, sample_weight, check_input, X_idx_sorted)\u001b[0m\n\u001b[1;32m   1027\u001b[0m             \u001b[0msample_weight\u001b[0m\u001b[0;34m=\u001b[0m\u001b[0msample_weight\u001b[0m\u001b[0;34m,\u001b[0m\u001b[0;34m\u001b[0m\u001b[0m\n\u001b[1;32m   1028\u001b[0m             \u001b[0mcheck_input\u001b[0m\u001b[0;34m=\u001b[0m\u001b[0mcheck_input\u001b[0m\u001b[0;34m,\u001b[0m\u001b[0;34m\u001b[0m\u001b[0m\n\u001b[0;32m-> 1029\u001b[0;31m             X_idx_sorted=X_idx_sorted)\n\u001b[0m\u001b[1;32m   1030\u001b[0m         \u001b[0;32mreturn\u001b[0m \u001b[0mself\u001b[0m\u001b[0;34m\u001b[0m\u001b[0m\n\u001b[1;32m   1031\u001b[0m \u001b[0;34m\u001b[0m\u001b[0m\n",
      "\u001b[0;32m/Users/apple/anaconda/lib/python3.6/site-packages/sklearn/tree/tree.py\u001b[0m in \u001b[0;36mfit\u001b[0;34m(self, X, y, sample_weight, check_input, X_idx_sorted)\u001b[0m\n\u001b[1;32m    120\u001b[0m         \u001b[0mrandom_state\u001b[0m \u001b[0;34m=\u001b[0m \u001b[0mcheck_random_state\u001b[0m\u001b[0;34m(\u001b[0m\u001b[0mself\u001b[0m\u001b[0;34m.\u001b[0m\u001b[0mrandom_state\u001b[0m\u001b[0;34m)\u001b[0m\u001b[0;34m\u001b[0m\u001b[0m\n\u001b[1;32m    121\u001b[0m         \u001b[0;32mif\u001b[0m \u001b[0mcheck_input\u001b[0m\u001b[0;34m:\u001b[0m\u001b[0;34m\u001b[0m\u001b[0m\n\u001b[0;32m--> 122\u001b[0;31m             \u001b[0mX\u001b[0m \u001b[0;34m=\u001b[0m \u001b[0mcheck_array\u001b[0m\u001b[0;34m(\u001b[0m\u001b[0mX\u001b[0m\u001b[0;34m,\u001b[0m \u001b[0mdtype\u001b[0m\u001b[0;34m=\u001b[0m\u001b[0mDTYPE\u001b[0m\u001b[0;34m,\u001b[0m \u001b[0maccept_sparse\u001b[0m\u001b[0;34m=\u001b[0m\u001b[0;34m\"csc\"\u001b[0m\u001b[0;34m)\u001b[0m\u001b[0;34m\u001b[0m\u001b[0m\n\u001b[0m\u001b[1;32m    123\u001b[0m             \u001b[0my\u001b[0m \u001b[0;34m=\u001b[0m \u001b[0mcheck_array\u001b[0m\u001b[0;34m(\u001b[0m\u001b[0my\u001b[0m\u001b[0;34m,\u001b[0m \u001b[0mensure_2d\u001b[0m\u001b[0;34m=\u001b[0m\u001b[0;32mFalse\u001b[0m\u001b[0;34m,\u001b[0m \u001b[0mdtype\u001b[0m\u001b[0;34m=\u001b[0m\u001b[0;32mNone\u001b[0m\u001b[0;34m)\u001b[0m\u001b[0;34m\u001b[0m\u001b[0m\n\u001b[1;32m    124\u001b[0m             \u001b[0;32mif\u001b[0m \u001b[0missparse\u001b[0m\u001b[0;34m(\u001b[0m\u001b[0mX\u001b[0m\u001b[0;34m)\u001b[0m\u001b[0;34m:\u001b[0m\u001b[0;34m\u001b[0m\u001b[0m\n",
      "\u001b[0;32m/Users/apple/anaconda/lib/python3.6/site-packages/sklearn/utils/validation.py\u001b[0m in \u001b[0;36mcheck_array\u001b[0;34m(array, accept_sparse, dtype, order, copy, force_all_finite, ensure_2d, allow_nd, ensure_min_samples, ensure_min_features, warn_on_dtype, estimator)\u001b[0m\n\u001b[1;32m    405\u001b[0m                              % (array.ndim, estimator_name))\n\u001b[1;32m    406\u001b[0m         \u001b[0;32mif\u001b[0m \u001b[0mforce_all_finite\u001b[0m\u001b[0;34m:\u001b[0m\u001b[0;34m\u001b[0m\u001b[0m\n\u001b[0;32m--> 407\u001b[0;31m             \u001b[0m_assert_all_finite\u001b[0m\u001b[0;34m(\u001b[0m\u001b[0marray\u001b[0m\u001b[0;34m)\u001b[0m\u001b[0;34m\u001b[0m\u001b[0m\n\u001b[0m\u001b[1;32m    408\u001b[0m \u001b[0;34m\u001b[0m\u001b[0m\n\u001b[1;32m    409\u001b[0m     \u001b[0mshape_repr\u001b[0m \u001b[0;34m=\u001b[0m \u001b[0m_shape_repr\u001b[0m\u001b[0;34m(\u001b[0m\u001b[0marray\u001b[0m\u001b[0;34m.\u001b[0m\u001b[0mshape\u001b[0m\u001b[0;34m)\u001b[0m\u001b[0;34m\u001b[0m\u001b[0m\n",
      "\u001b[0;32m/Users/apple/anaconda/lib/python3.6/site-packages/sklearn/utils/validation.py\u001b[0m in \u001b[0;36m_assert_all_finite\u001b[0;34m(X)\u001b[0m\n\u001b[1;32m     56\u001b[0m             and not np.isfinite(X).all()):\n\u001b[1;32m     57\u001b[0m         raise ValueError(\"Input contains NaN, infinity\"\n\u001b[0;32m---> 58\u001b[0;31m                          \" or a value too large for %r.\" % X.dtype)\n\u001b[0m\u001b[1;32m     59\u001b[0m \u001b[0;34m\u001b[0m\u001b[0m\n\u001b[1;32m     60\u001b[0m \u001b[0;34m\u001b[0m\u001b[0m\n",
      "\u001b[0;31mValueError\u001b[0m: Input contains NaN, infinity or a value too large for dtype('float32')."
     ]
    }
   ],
   "source": [
    "# Fit model\n",
    "melbourne_model.fit(X, y)"
   ]
  },
  {
   "cell_type": "code",
   "execution_count": 19,
   "metadata": {},
   "outputs": [
    {
     "name": "stdout",
     "output_type": "stream",
     "text": [
      "       Rooms  Bathroom  Landsize  BuildingArea  YearBuilt  Lattitude  \\\n",
      "0          2       1.0     202.0           NaN        NaN  -37.79960   \n",
      "1          2       1.0     156.0          79.0     1900.0  -37.80790   \n",
      "2          3       2.0     134.0         150.0     1900.0  -37.80930   \n",
      "3          3       2.0      94.0           NaN        NaN  -37.79690   \n",
      "4          4       1.0     120.0         142.0     2014.0  -37.80720   \n",
      "5          2       1.0     181.0           NaN        NaN  -37.80410   \n",
      "6          3       2.0     245.0         210.0     1910.0  -37.80240   \n",
      "7          2       1.0     256.0         107.0     1890.0  -37.80600   \n",
      "8          3       NaN       NaN           NaN        NaN        NaN   \n",
      "9          2       NaN       NaN           NaN        NaN        NaN   \n",
      "10         1       1.0       0.0           NaN        NaN  -37.80080   \n",
      "11         2       1.0     220.0          75.0     1900.0  -37.80100   \n",
      "12         2       NaN       NaN           NaN        NaN        NaN   \n",
      "13         2       NaN       NaN           NaN        NaN        NaN   \n",
      "14         1       NaN       NaN           NaN        NaN        NaN   \n",
      "15         2       2.0       0.0           NaN        NaN  -37.81100   \n",
      "16         3       2.0     214.0         190.0     2005.0  -37.80850   \n",
      "17         2       2.0       0.0          94.0     2009.0  -37.80780   \n",
      "18         4       NaN       NaN           NaN        NaN  -37.80840   \n",
      "19         1       NaN       NaN           NaN        NaN        NaN   \n",
      "20         2       1.0     195.0           NaN        NaN  -37.80840   \n",
      "21         1       1.0       0.0           NaN        NaN  -37.80160   \n",
      "22         2       1.0     238.0          97.0     1890.0  -37.80900   \n",
      "23         3       2.0     113.0         110.0     1880.0  -37.80560   \n",
      "24         2       NaN       NaN           NaN        NaN        NaN   \n",
      "25         3       1.0     138.0         105.0     1890.0  -37.80210   \n",
      "26         3       1.0     183.0           NaN        NaN  -37.80220   \n",
      "27         2       1.0     150.0          73.0     1985.0  -37.80110   \n",
      "28         4       2.0     780.0         135.0     1900.0  -37.80730   \n",
      "29         3       2.0       0.0           NaN     2010.0  -37.80930   \n",
      "...      ...       ...       ...           ...        ...        ...   \n",
      "18366      2       NaN       NaN           NaN        NaN        NaN   \n",
      "18367      2       1.0       NaN           1.0     1977.0  -37.84740   \n",
      "18368      3       2.0       NaN           NaN        NaN  -37.84668   \n",
      "18369      2       1.0       NaN          86.0     2004.0  -37.70501   \n",
      "18370      3       1.0     607.0         102.0     1970.0  -37.69423   \n",
      "18371      2       1.0       NaN         109.0     1975.0  -37.70811   \n",
      "18372      4       2.0     791.0           NaN        NaN  -37.84467   \n",
      "18373      3       2.0       NaN         152.0     2009.0  -37.84780   \n",
      "18374      4       2.0       NaN         190.0     1980.0  -37.85928   \n",
      "18375      4       2.0     986.0           NaN        NaN  -37.84679   \n",
      "18376      5       3.0     696.0           NaN        NaN  -37.73501   \n",
      "18377      4       2.0     704.0         200.0     1981.0  -37.85639   \n",
      "18378      4       2.0     551.0           NaN        NaN  -37.87608   \n",
      "18379      3       2.0     674.0           NaN        NaN  -37.88360   \n",
      "18380      4       2.0     717.0         191.0     1980.0  -37.86887   \n",
      "18381      2       1.0       NaN          83.0     2010.0  -37.71500   \n",
      "18382      2       1.0     210.0          79.0     2006.0  -37.70657   \n",
      "18383      4       NaN       NaN           NaN        NaN        NaN   \n",
      "18384      4       2.0     662.0         172.0     1980.0  -37.89327   \n",
      "18385      2       2.0       NaN         135.0     2012.0  -37.80968   \n",
      "18386      3       2.0     256.0           NaN        NaN  -37.67917   \n",
      "18387      4       2.0       NaN           NaN        NaN  -37.68006   \n",
      "18388      4       2.0     652.0           NaN     1981.0  -37.90562   \n",
      "18389      3       2.0     333.0         133.0     1995.0  -37.85927   \n",
      "18390      3       2.0     436.0           NaN     1997.0  -37.85274   \n",
      "18391      2       2.0       NaN          89.0     2010.0  -37.86393   \n",
      "18392      4       1.0     866.0         157.0     1920.0  -37.85908   \n",
      "18393      4       3.0       NaN           NaN        NaN  -37.72006   \n",
      "18394      4       1.0     362.0         112.0     1920.0  -37.81188   \n",
      "18395      4       2.0       NaN         139.0     1950.0  -37.81829   \n",
      "\n",
      "       Longtitude  \n",
      "0       144.99840  \n",
      "1       144.99340  \n",
      "2       144.99440  \n",
      "3       144.99690  \n",
      "4       144.99410  \n",
      "5       144.99530  \n",
      "6       144.99930  \n",
      "7       144.99540  \n",
      "8             NaN  \n",
      "9             NaN  \n",
      "10      144.99730  \n",
      "11      144.99890  \n",
      "12            NaN  \n",
      "13            NaN  \n",
      "14            NaN  \n",
      "15      145.00670  \n",
      "16      144.99640  \n",
      "17      144.99650  \n",
      "18      144.99420  \n",
      "19            NaN  \n",
      "20      144.99730  \n",
      "21      144.99880  \n",
      "22      144.99760  \n",
      "23      144.99300  \n",
      "24            NaN  \n",
      "25      144.99650  \n",
      "26      144.99750  \n",
      "27      145.00040  \n",
      "28      144.99520  \n",
      "29      144.99590  \n",
      "...           ...  \n",
      "18366         NaN  \n",
      "18367   145.01247  \n",
      "18368   144.71607  \n",
      "18369   144.88182  \n",
      "18370   144.88002  \n",
      "18371   144.88089  \n",
      "18372   145.19276  \n",
      "18373   145.18855  \n",
      "18374   145.18715  \n",
      "18375   145.20051  \n",
      "18376   145.08341  \n",
      "18377   145.23536  \n",
      "18378   145.22390  \n",
      "18379   145.22805  \n",
      "18380   145.22116  \n",
      "18381   145.07649  \n",
      "18382   145.07878  \n",
      "18383         NaN  \n",
      "18384   144.64789  \n",
      "18385   144.86819  \n",
      "18386   144.89390  \n",
      "18387   144.87550  \n",
      "18388   145.16761  \n",
      "18389   144.87904  \n",
      "18390   144.88738  \n",
      "18391   144.90484  \n",
      "18392   144.89299  \n",
      "18393   145.10547  \n",
      "18394   144.88449  \n",
      "18395   144.87404  \n",
      "\n",
      "[18396 rows x 7 columns]\n"
     ]
    }
   ],
   "source": [
    "print(X)"
   ]
  },
  {
   "cell_type": "code",
   "execution_count": null,
   "metadata": {
    "collapsed": true
   },
   "outputs": [],
   "source": []
  }
 ],
 "metadata": {
  "kernelspec": {
   "display_name": "Python 2",
   "language": "python",
   "name": "python2"
  },
  "language_info": {
   "codemirror_mode": {
    "name": "ipython",
    "version": 3
   },
   "file_extension": ".py",
   "mimetype": "text/x-python",
   "name": "python",
   "nbconvert_exporter": "python",
   "pygments_lexer": "ipython3",
   "version": "3.6.1"
  }
 },
 "nbformat": 4,
 "nbformat_minor": 2
}
