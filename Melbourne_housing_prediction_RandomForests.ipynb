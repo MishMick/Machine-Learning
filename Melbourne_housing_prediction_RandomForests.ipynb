{
 "cells": [
  {
   "cell_type": "code",
   "execution_count": 1,
   "metadata": {
    "collapsed": true
   },
   "outputs": [],
   "source": [
    "import numpy as np\n",
    "import pandas as pd\n",
    "from sklearn.ensemble import RandomForestRegressor"
   ]
  },
  {
   "cell_type": "code",
   "execution_count": 2,
   "metadata": {
    "collapsed": true
   },
   "outputs": [],
   "source": [
    "# Read the data\n",
    "train = pd.read_csv('../DataSets/train.csv')"
   ]
  },
  {
   "cell_type": "code",
   "execution_count": 3,
   "metadata": {
    "collapsed": true
   },
   "outputs": [],
   "source": [
    "#target\n",
    "train_y = train.SalePrice"
   ]
  },
  {
   "cell_type": "code",
   "execution_count": 6,
   "metadata": {},
   "outputs": [],
   "source": [
    "predictor_cols = ['LotArea', 'OverallQual', 'YearBuilt', 'TotRmsAbvGrd']"
   ]
  },
  {
   "cell_type": "code",
   "execution_count": 7,
   "metadata": {
    "collapsed": true
   },
   "outputs": [],
   "source": [
    "train_X = train[predictor_cols]"
   ]
  },
  {
   "cell_type": "code",
   "execution_count": 13,
   "metadata": {},
   "outputs": [
    {
     "data": {
      "text/plain": [
       "RandomForestRegressor(bootstrap=True, criterion='mse', max_depth=None,\n",
       "           max_features='auto', max_leaf_nodes=None,\n",
       "           min_impurity_split=1e-07, min_samples_leaf=1,\n",
       "           min_samples_split=2, min_weight_fraction_leaf=0.0,\n",
       "           n_estimators=10, n_jobs=1, oob_score=False, random_state=None,\n",
       "           verbose=0, warm_start=False)"
      ]
     },
     "execution_count": 13,
     "metadata": {},
     "output_type": "execute_result"
    }
   ],
   "source": [
    "my_model = RandomForestRegressor()\n",
    "my_model.fit(train_X, train_y)"
   ]
  },
  {
   "cell_type": "code",
   "execution_count": 12,
   "metadata": {},
   "outputs": [],
   "source": [
    "# Read the test data\n",
    "test = pd.read_csv('../DataSets/test.csv')"
   ]
  },
  {
   "cell_type": "code",
   "execution_count": 14,
   "metadata": {
    "collapsed": true
   },
   "outputs": [],
   "source": [
    "test_X = test[predictor_cols]"
   ]
  },
  {
   "cell_type": "code",
   "execution_count": 17,
   "metadata": {},
   "outputs": [],
   "source": [
    "predicted_prices = my_model.predict(test_X)"
   ]
  },
  {
   "cell_type": "code",
   "execution_count": 18,
   "metadata": {},
   "outputs": [
    {
     "name": "stdout",
     "output_type": "stream",
     "text": [
      "[ 136000.  190350.  151290. ...,  150594.  153600.  239700.]\n"
     ]
    }
   ],
   "source": [
    "# We will look at the predicted prices to ensure we have something sensible.\n",
    "print(predicted_prices)"
   ]
  },
  {
   "cell_type": "code",
   "execution_count": 19,
   "metadata": {
    "collapsed": true
   },
   "outputs": [],
   "source": [
    "my_submission = pd.DataFrame({'Id': test.Id, 'SalePrice': predicted_prices})"
   ]
  },
  {
   "cell_type": "code",
   "execution_count": 20,
   "metadata": {},
   "outputs": [
    {
     "name": "stdout",
     "output_type": "stream",
     "text": [
      "        Id  SalePrice\n",
      "0     1461   136000.0\n",
      "1     1462   190350.0\n",
      "2     1463   151290.0\n",
      "3     1464   194150.0\n",
      "4     1465   181750.0\n",
      "5     1466   185450.0\n",
      "6     1467   177010.0\n",
      "7     1468   190549.0\n",
      "8     1469   186830.0\n",
      "9     1470   107290.0\n",
      "10    1471   213477.9\n",
      "11    1472    91210.0\n",
      "12    1473   114400.0\n",
      "13    1474   132350.0\n",
      "14    1475   145240.0\n",
      "15    1476   504070.4\n",
      "16    1477   297074.8\n",
      "17    1478   283540.0\n",
      "18    1479   285282.4\n",
      "19    1480   390652.3\n",
      "20    1481   268940.0\n",
      "21    1482   211900.0\n",
      "22    1483   172800.0\n",
      "23    1484   210519.3\n",
      "24    1485   229527.2\n",
      "25    1486   201489.9\n",
      "26    1487   309546.3\n",
      "27    1488   215330.0\n",
      "28    1489   188602.7\n",
      "29    1490   175576.0\n",
      "...    ...        ...\n",
      "1429  2890    69110.0\n",
      "1430  2891   151760.0\n",
      "1431  2892    66062.2\n",
      "1432  2893   138000.0\n",
      "1433  2894    78207.6\n",
      "1434  2895   267400.0\n",
      "1435  2896   258400.0\n",
      "1436  2897   206800.0\n",
      "1437  2898   209590.0\n",
      "1438  2899   230200.0\n",
      "1439  2900   169970.0\n",
      "1440  2901   200200.0\n",
      "1441  2902   179850.0\n",
      "1442  2903   296632.6\n",
      "1443  2904   327483.9\n",
      "1444  2905   139800.0\n",
      "1445  2906   213510.0\n",
      "1446  2907   123700.0\n",
      "1447  2908   136900.0\n",
      "1448  2909   160400.0\n",
      "1449  2910    79550.0\n",
      "1450  2911    86700.0\n",
      "1451  2912   169055.0\n",
      "1452  2913    89800.0\n",
      "1453  2914    89800.0\n",
      "1454  2915    82800.0\n",
      "1455  2916    82050.0\n",
      "1456  2917   150594.0\n",
      "1457  2918   153600.0\n",
      "1458  2919   239700.0\n",
      "\n",
      "[1459 rows x 2 columns]\n"
     ]
    }
   ],
   "source": [
    "print(my_submission)"
   ]
  },
  {
   "cell_type": "code",
   "execution_count": null,
   "metadata": {
    "collapsed": true
   },
   "outputs": [],
   "source": []
  }
 ],
 "metadata": {
  "kernelspec": {
   "display_name": "Python 2",
   "language": "python",
   "name": "python2"
  },
  "language_info": {
   "codemirror_mode": {
    "name": "ipython",
    "version": 3
   },
   "file_extension": ".py",
   "mimetype": "text/x-python",
   "name": "python",
   "nbconvert_exporter": "python",
   "pygments_lexer": "ipython3",
   "version": "3.6.1"
  }
 },
 "nbformat": 4,
 "nbformat_minor": 2
}
